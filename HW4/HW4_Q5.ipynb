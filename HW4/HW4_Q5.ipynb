{
 "cells": [
  {
   "cell_type": "markdown",
   "metadata": {},
   "source": [
    "## Isomap\n",
    "\n",
    "The core idea behind Isomap is to preserve the geodesic distances (i.e., the shortest path in the manifold, not just in the Euclidean sense) between all pairs of points in the low-dimensional embedding.\n",
    "\n",
    "__Nearest Neighbor Search__: Isomap starts by finding the nearest neighbors for each point in the dataset. This can be done using various methods like k-nearest neighbors (k-NN).\n",
    "\n",
    "__Constructing the Graph__: It then constructs a neighborhood graph where each point is connected to its nearest neighbors. The edges of this graph are assigned weights equal to the Euclidean distance between the connected points.\n",
    "\n",
    "__Estimating Geodesic Distances__: Isomap estimates the geodesic distances between all pairs of points by computing the shortest path in the neighborhood graph. This is usually done using algorithms like Dijkstra's or Floyd-Warshall.\n",
    "\n",
    "__Multidimensional Scaling (MDS)__: Finally, Isomap applies Multidimensional Scaling (MDS) to the matrix of graph distances. MDS seeks a low-dimensional representation of the data that preserves these geodesic distances as much as possible.\n",
    "\n",
    "The cost function that Isomap tries to optimize is essentially related to preserving the geodesic distances between points in the low-dimensional embedding. In other words, the algorithm tries to ensure that the distances between points in the reduced-dimensional space are as close as possible to the true geodesic distances in the high-dimensional space."
   ]
  },
  {
   "cell_type": "code",
   "execution_count": null,
   "metadata": {},
   "outputs": [],
   "source": []
  },
  {
   "cell_type": "code",
   "execution_count": null,
   "metadata": {},
   "outputs": [],
   "source": []
  },
  {
   "cell_type": "code",
   "execution_count": null,
   "metadata": {},
   "outputs": [],
   "source": []
  },
  {
   "cell_type": "code",
   "execution_count": null,
   "metadata": {},
   "outputs": [],
   "source": []
  },
  {
   "cell_type": "code",
   "execution_count": null,
   "metadata": {},
   "outputs": [],
   "source": []
  },
  {
   "cell_type": "code",
   "execution_count": null,
   "metadata": {},
   "outputs": [],
   "source": []
  }
 ],
 "metadata": {
  "language_info": {
   "name": "python"
  },
  "orig_nbformat": 4
 },
 "nbformat": 4,
 "nbformat_minor": 2
}
